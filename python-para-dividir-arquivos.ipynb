{
 "cells": [
  {
   "cell_type": "code",
   "execution_count": null,
   "id": "59ea1dd2",
   "metadata": {},
   "outputs": [],
   "source": [
    "# Leitura e divisão das bases\n",
    "# Caso necessário - a divisão pode ser feito apenas uma vez\n",
    "# base obtida em: https://www.kaggle.com/chaitanyahivlekar/large-movie-dataset?select=movies_dataset.csv"
   ]
  },
  {
   "cell_type": "code",
   "execution_count": 7,
   "id": "bc9cd77c",
   "metadata": {},
   "outputs": [],
   "source": [
    "import pandas as pd\n",
    "import dask.dataframe as dd"
   ]
  },
  {
   "cell_type": "code",
   "execution_count": 8,
   "id": "22adbb6a",
   "metadata": {},
   "outputs": [],
   "source": [
    "df = dd.read_csv(\"Base/movies_dataset.csv\")\n",
    "df = df.repartition(npartitions=100)"
   ]
  },
  {
   "cell_type": "code",
   "execution_count": 6,
   "id": "dec21ac5",
   "metadata": {},
   "outputs": [],
   "source": [
    "o = df.to_csv(\"out_csv/part_*.csv\", index=False)"
   ]
  }
 ],
 "metadata": {
  "kernelspec": {
   "display_name": "Python 3",
   "language": "python",
   "name": "python3"
  },
  "language_info": {
   "codemirror_mode": {
    "name": "ipython",
    "version": 3
   },
   "file_extension": ".py",
   "mimetype": "text/x-python",
   "name": "python",
   "nbconvert_exporter": "python",
   "pygments_lexer": "ipython3",
   "version": "3.8.8"
  }
 },
 "nbformat": 4,
 "nbformat_minor": 5
}
